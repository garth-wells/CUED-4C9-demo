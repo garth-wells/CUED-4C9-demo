{
 "cells": [
  {
   "cell_type": "markdown",
   "id": "supreme-malpractice",
   "metadata": {},
   "source": [
    "# Hyperelasticity\n",
    "Author: Jørgen S. Dokken and Garth N. Wells\n",
    "\n",
    "This section shows how to solve the hyperelasticity problem for deformation of a beam.\n",
    "\n",
    "We start by importing `dolfinx` and some additional dependencies.\n",
    "Then, we create a slender cantilever consisting of hexahedral elements and create the function space `V` for our unknown."
   ]
  },
  {
   "cell_type": "code",
   "execution_count": null,
   "id": "optional-cameroon",
   "metadata": {},
   "outputs": [],
   "source": [
    "import dolfinx\n",
    "import numpy as np\n",
    "import ufl\n",
    "\n",
    "from petsc4py import PETSc\n",
    "from mpi4py import MPI\n",
    "L = 20.0\n",
    "mesh = dolfinx.BoxMesh(MPI.COMM_WORLD,[[0.0,0.0,0.0], [L, 1, 1]], [20, 5, 5], dolfinx.cpp.mesh.CellType.hexahedron)\n",
    "V = dolfinx.VectorFunctionSpace(mesh, (\"Lagrange\", 2))"
   ]
  },
  {
   "cell_type": "markdown",
   "id": "streaming-neutral",
   "metadata": {},
   "source": [
    "We create two python functions for determining the facets to apply boundary conditions to"
   ]
  },
  {
   "cell_type": "code",
   "execution_count": null,
   "id": "major-factor",
   "metadata": {},
   "outputs": [],
   "source": [
    "def left(x):\n",
    "    return np.isclose(x[0], 0)\n",
    "\n",
    "def right(x):\n",
    "    return np.isclose(x[0], L)\n",
    "\n",
    "left_facets = dolfinx.mesh.locate_entities_boundary(mesh, mesh.topology.dim - 1, left)\n",
    "right_facets = dolfinx.mesh.locate_entities_boundary(mesh, mesh.topology.dim - 1, right)"
   ]
  },
  {
   "cell_type": "markdown",
   "id": "figured-world",
   "metadata": {},
   "source": [
    "Next, we create a  marker based on these two functions"
   ]
  },
  {
   "cell_type": "code",
   "execution_count": null,
   "id": "dated-india",
   "metadata": {},
   "outputs": [],
   "source": [
    "# Concatenate and sort the arrays based on facet indices. Left facets marked with 1, right facets with two\n",
    "marked_facets = np.hstack([left_facets, right_facets])\n",
    "marked_values = np.hstack([np.full(len(left_facets), 1, dtype=np.int32), \n",
    "                           np.full(len(right_facets), 2, dtype=np.int32)])\n",
    "sorted_facets = np.argsort(marked_facets)\n",
    "facet_tag = dolfinx.MeshTags(mesh, mesh.topology.dim-1, marked_facets[sorted_facets], \n",
    "                             marked_values[sorted_facets])"
   ]
  },
  {
   "cell_type": "markdown",
   "id": "renewable-glossary",
   "metadata": {},
   "source": [
    "We then create a function for supplying the boundary condition on the left side, which is fixed."
   ]
  },
  {
   "cell_type": "code",
   "execution_count": null,
   "id": "confidential-french",
   "metadata": {},
   "outputs": [],
   "source": [
    "u_bc = dolfinx.Function(V)\n",
    "with u_bc.vector.localForm() as loc:\n",
    "    loc.set(0)"
   ]
  },
  {
   "cell_type": "markdown",
   "id": "musical-documentation",
   "metadata": {},
   "source": [
    "To apply the boundary condition, we identity the dofs located on the facets marked by the `MeshTag`."
   ]
  },
  {
   "cell_type": "code",
   "execution_count": null,
   "id": "written-monster",
   "metadata": {},
   "outputs": [],
   "source": [
    "left_dofs = dolfinx.fem.locate_dofs_topological(V, facet_tag.dim, facet_tag.indices[facet_tag.values==1])\n",
    "bcs = [dolfinx.DirichletBC(u_bc, left_dofs)]"
   ]
  },
  {
   "cell_type": "markdown",
   "id": "indoor-chester",
   "metadata": {},
   "source": [
    "Next, we define the body force on the reference configuration (`B`), and nominal (first Piola-Kirchhoff) traction (`T`). "
   ]
  },
  {
   "cell_type": "code",
   "execution_count": null,
   "id": "korean-carol",
   "metadata": {},
   "outputs": [],
   "source": [
    "B = dolfinx.Constant(mesh, (0, 0, 0))\n",
    "T = dolfinx.Constant(mesh, (0, 0, 0))"
   ]
  },
  {
   "cell_type": "markdown",
   "id": "blond-dynamics",
   "metadata": {},
   "source": [
    "Define the test and solution functions on the space $V$"
   ]
  },
  {
   "cell_type": "code",
   "execution_count": null,
   "id": "vocational-experiment",
   "metadata": {},
   "outputs": [],
   "source": [
    "v = ufl.TestFunction(V)\n",
    "u = dolfinx.Function(V)"
   ]
  },
  {
   "cell_type": "markdown",
   "id": "bright-belle",
   "metadata": {},
   "source": [
    "Define kinematic quantities used in the problem"
   ]
  },
  {
   "cell_type": "code",
   "execution_count": null,
   "id": "vertical-original",
   "metadata": {},
   "outputs": [],
   "source": [
    "# Spatial dimension\n",
    "d = len(u)\n",
    "\n",
    "# Identity tensor\n",
    "I = ufl.variable(ufl.Identity(d))\n",
    "\n",
    "# Deformation gradient\n",
    "F = ufl.variable(I + ufl.grad(u))\n",
    "\n",
    "# Right Cauchy-Green tensor\n",
    "C = ufl.variable(F.T * F)\n",
    "\n",
    "# Invariants of deformation tensors\n",
    "Ic = ufl.variable(ufl.tr(C))\n",
    "J  = ufl.variable(ufl.det(F))"
   ]
  },
  {
   "cell_type": "markdown",
   "id": "respiratory-compromise",
   "metadata": {},
   "source": [
    "Define the elasticity model via a stored strain energy density function $\\psi$, and create the expression for the first Piola-Kirchhoff stress:"
   ]
  },
  {
   "cell_type": "code",
   "execution_count": null,
   "id": "incorrect-hello",
   "metadata": {},
   "outputs": [],
   "source": [
    "# Elasticity parameters\n",
    "E, nu = 1.0e4, 0.3\n",
    "mu = dolfinx.Constant(mesh, E/(2*(1 + nu)))\n",
    "lmbda = dolfinx.Constant(mesh, E*nu/((1 + nu)*(1 - 2*nu)))\n",
    "\n",
    "# Stored strain energy density (compressible neo-Hookean model)\n",
    "psi = (mu / 2) * (Ic - 3) - mu * ufl.ln(J) + (lmbda / 2) * (ufl.ln(J))**2\n",
    "\n",
    "# Stress (hyper-elastic)\n",
    "P = ufl.diff(psi, F)"
   ]
  },
  {
   "cell_type": "markdown",
   "id": "grateful-battlefield",
   "metadata": {},
   "source": [
    "```{admonition} Comparison to linear elasticity\n",
    "To illustrate the difference between linear and hyperelasticity, the following lines can be uncommented to solve the linear elasticity problem.\n",
    "```"
   ]
  },
  {
   "cell_type": "code",
   "execution_count": null,
   "id": "imperial-jurisdiction",
   "metadata": {},
   "outputs": [],
   "source": [
    "# P_l = 2.0 * mu * ufl.sym(ufl.grad(u)) + lmbda * ufl.tr(ufl.sym(ufl.grad(u))) * I"
   ]
  },
  {
   "cell_type": "markdown",
   "id": "alleged-genesis",
   "metadata": {},
   "source": [
    "Define the variational form with traction integral over all facets with value 2. We set the quadrature degree for the integrals to 3."
   ]
  },
  {
   "cell_type": "code",
   "execution_count": null,
   "id": "recognized-conclusion",
   "metadata": {},
   "outputs": [],
   "source": [
    "metadata = {\"quadrature_degree\": 3}\n",
    "ds = ufl.Measure('ds', subdomain_data=facet_tag, metadata=metadata)\n",
    "dx = ufl.Measure(\"dx\", metadata=metadata)\n",
    "\n",
    "# Define form F (we want to find u such that F(u) = 0)\n",
    "F = ufl.inner(ufl.grad(v), P)*dx - ufl.inner(v, B)*dx - ufl.inner(v, T)*ds(2)\n",
    "\n",
    "# F_l = ufl.inner(ufl.grad(v), P_l)*dx - ufl.inner(v, B)*dx - ufl.inner(v, T)*ds(2)"
   ]
  },
  {
   "cell_type": "markdown",
   "id": "freelance-sending",
   "metadata": {},
   "source": [
    "The next step is to solve the non-linear problem. To do so, we use Newtons method. We start by creating a class containing the core functions that we require to solve the problem."
   ]
  },
  {
   "cell_type": "code",
   "execution_count": null,
   "id": "descending-acting",
   "metadata": {},
   "outputs": [],
   "source": [
    "from typing import List\n",
    "class NonlinearPDEProblem:\n",
    "    \"\"\"Nonlinear problem class for solving the non-linear problem\n",
    "    F(u, v) = 0 for all v in V\n",
    "    \"\"\"\n",
    "    def __init__(self, F: ufl.form.Form, u: dolfinx.Function, bcs: List[dolfinx.DirichletBC]):\n",
    "        \"\"\"\n",
    "        Input:\n",
    "        - F: The PDE residual F(u, v)\n",
    "        - u: The unknown\n",
    "        - bcs: List of Dirichlet boundary conditions\n",
    "        This class set up structures for solving the non-linear problem using Newton's method, \n",
    "        dF/du(u) du = -F(u)\n",
    "        \"\"\"\n",
    "        V = u.function_space\n",
    "        du = ufl.TrialFunction(V)\n",
    "        self.L = F\n",
    "        # Create the Jacobian matrix, dF/du\n",
    "        self.a = ufl.derivative(F, u, du)\n",
    "        self.bcs = bcs\n",
    "\n",
    "        # Create matrix and vector to be used for assembly\n",
    "        # of the non-linear problem\n",
    "        self.matrix = dolfinx.fem.create_matrix(self.a)\n",
    "        self.vector = dolfinx.fem.create_vector(self.L)\n",
    "\n",
    "    def form(self, x: PETSc.Vec):\n",
    "        \"\"\"\n",
    "        This function is called before the residual or Jacobian is computed. This \n",
    "        is usually used to update ghost values.\n",
    "        Input: \n",
    "           x: The vector containing the latest solution\n",
    "        \"\"\"\n",
    "        x.ghostUpdate(addv=PETSc.InsertMode.INSERT, mode=PETSc.ScatterMode.FORWARD)\n",
    "\n",
    "    def F(self, x: PETSc.Vec, b: PETSc.Vec):\n",
    "        \"\"\"Assemble the residual F into the vector b. \n",
    "        Input:\n",
    "           x: The vector containing the latest solution\n",
    "           b: Vector to assemble the residual into\n",
    "        \"\"\"\n",
    "        # Reset the residual vector\n",
    "        with b.localForm() as b_local:\n",
    "            b_local.set(0.0)\n",
    "        dolfinx.fem.assemble_vector(b, self.L)\n",
    "\n",
    "        # Apply boundary condition\n",
    "        dolfinx.fem.apply_lifting(b, [self.a], [self.bcs], [x], -1.0)\n",
    "        b.ghostUpdate(addv=PETSc.InsertMode.ADD, mode=PETSc.ScatterMode.REVERSE)\n",
    "        dolfinx.fem.set_bc(b, self.bcs, x, -1.0)\n",
    "\n",
    "    def J(self, x: PETSc.Vec, A: PETSc.Mat):\n",
    "        \"\"\"Assemble the Jacobian matrix.\n",
    "        Input:\n",
    "          - x: The vector containing the latest solution\n",
    "          - A: The matrix to assemble the Jacobian into\n",
    "        \"\"\"\n",
    "        A.zeroEntries()\n",
    "        dolfinx.fem.assemble_matrix(A, self.a, self.bcs)\n",
    "        A.assemble()"
   ]
  },
  {
   "cell_type": "markdown",
   "id": "historic-sherman",
   "metadata": {},
   "source": [
    "We initialize the created class"
   ]
  },
  {
   "cell_type": "code",
   "execution_count": null,
   "id": "threatened-devices",
   "metadata": {},
   "outputs": [],
   "source": [
    "problem = NonlinearPDEProblem(F, u, bcs)\n"
   ]
  },
  {
   "cell_type": "markdown",
   "id": "qualified-phrase",
   "metadata": {},
   "source": [
    "and then create and customize the Newton solver"
   ]
  },
  {
   "cell_type": "code",
   "execution_count": null,
   "id": "special-globe",
   "metadata": {},
   "outputs": [],
   "source": [
    "solver = dolfinx.cpp.nls.NewtonSolver(MPI.COMM_WORLD)\n",
    "\n",
    "# Set Newton solver options\n",
    "solver.atol = 1e-8\n",
    "solver.rtol = 1e-6\n",
    "solver.convergence_criterion = \"incremental\"\n",
    "\n",
    "# Set non-linear problem for Newton solver\n",
    "solver.setF(problem.F, problem.vector)\n",
    "solver.setJ(problem.J, problem.matrix)\n",
    "solver.set_form(problem.form)"
   ]
  },
  {
   "cell_type": "markdown",
   "id": "marked-hungary",
   "metadata": {},
   "source": [
    "We create a function to plot the solution at each time step."
   ]
  },
  {
   "cell_type": "code",
   "execution_count": null,
   "id": "noble-perception",
   "metadata": {},
   "outputs": [],
   "source": [
    "import pyvista as pv\n",
    "import dolfinx.plot"
   ]
  },
  {
   "cell_type": "markdown",
   "id": "nasty-entertainment",
   "metadata": {},
   "source": [
    "Finally, we solve the problem over several time steps, updating the y-component of the traction"
   ]
  },
  {
   "cell_type": "code",
   "execution_count": null,
   "id": "vanilla-referral",
   "metadata": {},
   "outputs": [],
   "source": [
    "dolfinx.log.set_log_level(dolfinx.log.LogLevel.INFO)\n",
    "tval0 = -1.5\n",
    "for n in range(1, 10):\n",
    "    print(\"Step:\", n)\n",
    "    T.value[2] = n * tval0\n",
    "    num_its, converged = solver.solve(u.vector)\n",
    "    assert(converged)\n",
    "\n",
    "# Solve linear problem\n",
    "v = ufl.TestFunction(V)\n",
    "ut = ufl.TrialFunction(V)\n",
    "P_l = 2.0 * mu * ufl.sym(ufl.grad(ut)) + lmbda * ufl.tr(ufl.sym(ufl.grad(ut))) * I\n",
    "a = ufl.inner(ufl.grad(v), P_l)*dx \n",
    "L = ufl.inner(v, B)*dx + ufl.inner(v, T)*ds(2) \n",
    "problem_l = dolfinx.fem.LinearProblem(a, L, bcs=bcs, petsc_options={\"ksp_type\": \"preonly\", \"pc_type\": \"lu\"})\n",
    "u_l = problem_l.solve()\n",
    "\n",
    "# Plot\n",
    "topology, cell_types = dolfinx.plot.create_vtk_topology(mesh, mesh.topology.dim)\n",
    "grid = pv.UnstructuredGrid(topology, cell_types, mesh.geometry.x)\n",
    "grid[\"u\"] = u.compute_point_values()\n",
    "grid[\"u_l\"] = u_l.compute_point_values()\n",
    "warped0 = grid.warp_by_vector(\"u\", factor=1)\n",
    "warped1 = grid.warp_by_vector(\"u_l\", factor=1)\n",
    "\n",
    "plotter = pv.Plotter()\n",
    "plotter.add_mesh(warped0, 'b', show_edges=True, opacity=0.9, label=\"Nonlinear\")\n",
    "plotter.add_mesh(warped1, 'g', show_edges=True, opacity=0.3, label=\"Linear\")\n",
    "plotter.show()"
   ]
  },
  {
   "cell_type": "code",
   "execution_count": null,
   "id": "eligible-chambers",
   "metadata": {},
   "outputs": [],
   "source": []
  },
  {
   "cell_type": "code",
   "execution_count": null,
   "id": "signed-deployment",
   "metadata": {},
   "outputs": [],
   "source": []
  },
  {
   "cell_type": "code",
   "execution_count": null,
   "id": "maritime-trust",
   "metadata": {},
   "outputs": [],
   "source": []
  }
 ],
 "metadata": {
  "kernelspec": {
   "display_name": "Python 3",
   "language": "python",
   "name": "python3"
  },
  "language_info": {
   "codemirror_mode": {
    "name": "ipython",
    "version": 3
   },
   "file_extension": ".py",
   "mimetype": "text/x-python",
   "name": "python",
   "nbconvert_exporter": "python",
   "pygments_lexer": "ipython3",
   "version": "3.8.8"
  }
 },
 "nbformat": 4,
 "nbformat_minor": 5
}
