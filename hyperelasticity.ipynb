{
 "cells": [
  {
   "cell_type": "markdown",
   "id": "supreme-malpractice",
   "metadata": {},
   "source": [
    "# Hyperelasticity\n",
    "Author: Jørgen S. Dokken and Garth N. Wells\n",
    "\n",
    "This section shows how to solve the hyperelasticity problem for deformation of a beam.\n",
    "\n",
    "We start by importing `dolfinx` and some additional dependencies.\n",
    "Then, we create a slender cantilever consisting of hexahedral elements and create the function space `V` for our unknown."
   ]
  },
  {
   "cell_type": "code",
   "execution_count": null,
   "id": "optional-cameroon",
   "metadata": {
    "tags": []
   },
   "outputs": [],
   "source": [
    "import dolfinx\n",
    "from dolfinx import fem, mesh\n",
    "import numpy as np\n",
    "import ufl\n",
    "from dolfinx.nls.petsc import NewtonSolver\n",
    "from dolfinx.fem.petsc import NonlinearProblem\n",
    "\n",
    "from petsc4py import PETSc\n",
    "from mpi4py import MPI\n",
    "\n",
    "L = 20.0\n",
    "msh = dolfinx.mesh.create_box(MPI.COMM_WORLD, [(0.0, 0.0, 0.0), (L, 1.0, 1.0)], [50, 12, 12])\n",
    "\n",
    "V = fem.functionspace(msh, (\"Lagrange\", 1, (msh.geometry.dim,)))"
   ]
  },
  {
   "cell_type": "markdown",
   "id": "streaming-neutral",
   "metadata": {},
   "source": [
    "We create two python functions for determining the facets to apply boundary conditions to"
   ]
  },
  {
   "cell_type": "code",
   "execution_count": null,
   "id": "major-factor",
   "metadata": {
    "tags": []
   },
   "outputs": [],
   "source": [
    "left_facets = mesh.locate_entities_boundary(msh, msh.topology.dim - 1, lambda x : np.isclose(x[0], 0))\n",
    "right_facets = mesh.locate_entities_boundary(msh, msh.topology.dim - 1, lambda x: np.isclose(x[0], L))"
   ]
  },
  {
   "cell_type": "markdown",
   "id": "figured-world",
   "metadata": {},
   "source": [
    "Next, we create a  marker based on these two functions"
   ]
  },
  {
   "cell_type": "code",
   "execution_count": null,
   "id": "dated-india",
   "metadata": {
    "tags": []
   },
   "outputs": [],
   "source": [
    "# Concatenate and sort the arrays based on facet indices. Left facets marked with 1, right facets with two\n",
    "marked_facets = np.hstack([left_facets, right_facets])\n",
    "marked_values = np.hstack([np.full(len(left_facets), 1, dtype=np.int32), \n",
    "                           np.full(len(right_facets), 2, dtype=np.int32)])\n",
    "sorted_facets = np.argsort(marked_facets)\n",
    "facet_tag = mesh.meshtags(msh, msh.topology.dim-1, marked_facets[sorted_facets], marked_values[sorted_facets])"
   ]
  },
  {
   "cell_type": "markdown",
   "id": "renewable-glossary",
   "metadata": {},
   "source": [
    "We then create a function for supplying the boundary condition on the left side, which is fixed."
   ]
  },
  {
   "cell_type": "markdown",
   "id": "musical-documentation",
   "metadata": {},
   "source": [
    "To apply the boundary condition, we identity the dofs located on the facets marked by the `MeshTag`."
   ]
  },
  {
   "cell_type": "code",
   "execution_count": null,
   "id": "written-monster",
   "metadata": {
    "tags": []
   },
   "outputs": [],
   "source": [
    "left_dofs = fem.locate_dofs_topological(V, facet_tag.dim, facet_tag.indices[facet_tag.values==1])\n",
    "bcs = [fem.dirichletbc(np.zeros(3, dtype=np.float64), left_dofs, V=V)]"
   ]
  },
  {
   "cell_type": "markdown",
   "id": "indoor-chester",
   "metadata": {},
   "source": [
    "Next, we define the body force on the reference configuration (`B`), and nominal (first Piola-Kirchhoff) traction (`T`). "
   ]
  },
  {
   "cell_type": "code",
   "execution_count": null,
   "id": "korean-carol",
   "metadata": {
    "tags": []
   },
   "outputs": [],
   "source": [
    "B = fem.Constant(msh, np.zeros(3, dtype=np.float64))\n",
    "T = fem.Constant(msh, np.zeros(3, dtype=np.float64))"
   ]
  },
  {
   "cell_type": "markdown",
   "id": "blond-dynamics",
   "metadata": {},
   "source": [
    "Define the test and solution functions on the space $V$"
   ]
  },
  {
   "cell_type": "code",
   "execution_count": null,
   "id": "vocational-experiment",
   "metadata": {
    "tags": []
   },
   "outputs": [],
   "source": [
    "v = ufl.TestFunction(V)\n",
    "u = fem.Function(V)"
   ]
  },
  {
   "cell_type": "markdown",
   "id": "bright-belle",
   "metadata": {},
   "source": [
    "Define kinematic quantities used in the problem"
   ]
  },
  {
   "cell_type": "code",
   "execution_count": null,
   "id": "vertical-original",
   "metadata": {
    "tags": []
   },
   "outputs": [],
   "source": [
    "# Spatial dimension\n",
    "d = len(u)\n",
    "\n",
    "# Identity tensor\n",
    "I = ufl.variable(ufl.Identity(d))\n",
    "\n",
    "# Deformation gradient\n",
    "F = ufl.variable(I + ufl.grad(u))\n",
    "\n",
    "# Right Cauchy-Green tensor\n",
    "C = ufl.variable(F.T * F)\n",
    "\n",
    "# Invariants of deformation tensors\n",
    "Ic = ufl.variable(ufl.tr(C))\n",
    "J  = ufl.variable(ufl.det(F))"
   ]
  },
  {
   "cell_type": "markdown",
   "id": "respiratory-compromise",
   "metadata": {},
   "source": [
    "Define the elasticity model via a stored strain energy density function $\\psi$, and create the expression for the first Piola-Kirchhoff stress:"
   ]
  },
  {
   "cell_type": "code",
   "execution_count": null,
   "id": "incorrect-hello",
   "metadata": {
    "tags": []
   },
   "outputs": [],
   "source": [
    "# Elasticity parameters\n",
    "E, nu = 1.0e4, 0.3\n",
    "mu = fem.Constant(msh, E/(2*(1 + nu)))\n",
    "lmbda = fem.Constant(msh, E*nu/((1 + nu)*(1 - 2*nu)))\n",
    "\n",
    "# Stored strain energy density (compressible neo-Hookean model)\n",
    "psi = (mu / 2) * (Ic - 3) - mu * ufl.ln(J) + (lmbda / 2) * (ufl.ln(J))**2\n",
    "\n",
    "# Stress (hyper-elastic)\n",
    "P = ufl.diff(psi, F)"
   ]
  },
  {
   "cell_type": "markdown",
   "id": "alleged-genesis",
   "metadata": {},
   "source": [
    "Define the variational form with traction integral over all facets with value 2. We set the quadrature degree for the integrals to 3."
   ]
  },
  {
   "cell_type": "code",
   "execution_count": null,
   "id": "recognized-conclusion",
   "metadata": {
    "tags": []
   },
   "outputs": [],
   "source": [
    "metadata = {\"quadrature_degree\": 3}\n",
    "ds = ufl.Measure('ds', subdomain_data=facet_tag, metadata=metadata)\n",
    "dx = ufl.Measure(\"dx\", metadata=metadata)\n",
    "\n",
    "# Define form F (we want to find u such that F(u) = 0)\n",
    "F = ufl.inner(ufl.grad(v), P)*dx - ufl.inner(v, B)*dx - ufl.inner(v, T)*ds(2)"
   ]
  },
  {
   "cell_type": "markdown",
   "id": "freelance-sending",
   "metadata": {},
   "source": [
    "The next step is to solve the non-linear problem. To do so, we use Newtons method. We start by creating a class containing the core functions that we require to solve the problem."
   ]
  },
  {
   "cell_type": "code",
   "execution_count": null,
   "id": "descending-acting",
   "metadata": {
    "tags": []
   },
   "outputs": [],
   "source": [
    "problem = NonlinearProblem(F, u, bcs)\n",
    "solver = NewtonSolver(MPI.COMM_WORLD, problem)"
   ]
  },
  {
   "cell_type": "markdown",
   "id": "qualified-phrase",
   "metadata": {},
   "source": [
    "and then create and customize the Newton solver"
   ]
  },
  {
   "cell_type": "code",
   "execution_count": null,
   "id": "special-globe",
   "metadata": {
    "tags": []
   },
   "outputs": [],
   "source": [
    "# Set Newton solver options\n",
    "solver.atol = 1e-8\n",
    "solver.rtol = 1e-6\n",
    "solver.convergence_criterion = \"incremental\"\n",
    "\n",
    "# We can customize the linear solver used inside the NewtonSolver by\n",
    "# modifying the PETSc options\n",
    "ksp = solver.krylov_solver\n",
    "opts = PETSc.Options()\n",
    "option_prefix = ksp.getOptionsPrefix()\n",
    "opts[f\"{option_prefix}ksp_type\"] = \"preonly\"\n",
    "opts[f\"{option_prefix}pc_type\"] = \"lu\"\n",
    "opts[f\"{option_prefix}pc_factor_mat_solver_type\"] = \"mumps\"\n",
    "ksp.setFromOptions()"
   ]
  },
  {
   "cell_type": "markdown",
   "id": "marked-hungary",
   "metadata": {},
   "source": [
    "We create a function to plot the solution at each time step."
   ]
  },
  {
   "cell_type": "code",
   "execution_count": null,
   "id": "noble-perception",
   "metadata": {
    "tags": []
   },
   "outputs": [],
   "source": [
    "import pyvista as pv\n",
    "import dolfinx.plot\n",
    "import os\n",
    "\n",
    "pv.global_theme.background = 'white'\n",
    "if 'CODESPACES' in os.environ:\n",
    "    pv.start_xvfb()\n",
    "    jupyter_backend = 'static'\n",
    "else:\n",
    "    pv.set_jupyter_backend('trame')\n",
    "    jupyter_backend='client'"
   ]
  },
  {
   "cell_type": "markdown",
   "id": "nasty-entertainment",
   "metadata": {},
   "source": [
    "Finally, we solve the problem over several time steps, updating the y-component of the traction"
   ]
  },
  {
   "cell_type": "code",
   "execution_count": null,
   "id": "vanilla-referral",
   "metadata": {
    "tags": []
   },
   "outputs": [],
   "source": [
    "# dolfinx.log.set_log_level(dolfinx.log.LogLevel.INFO)\n",
    "tval0 = -1.5\n",
    "for n in range(1, 10):\n",
    "    print(\"Step:\", n)\n",
    "    T.value[2] = n * tval0\n",
    "    num_its, converged = solver.solve(u)\n",
    "    assert converged\n",
    "\n",
    "# Solve linear problem\n",
    "v = ufl.TestFunction(V)\n",
    "ut = ufl.TrialFunction(V)\n",
    "P_l = 2.0 * mu * ufl.sym(ufl.grad(ut)) + lmbda * ufl.tr(ufl.sym(ufl.grad(ut))) * I\n",
    "a = ufl.inner(ufl.grad(v), P_l)*dx \n",
    "L = ufl.inner(v, B)*dx + ufl.inner(v, T)*ds(2) \n",
    "problem_l = fem.petsc.LinearProblem(a, L, bcs=bcs, petsc_options={\"ksp_type\": \"preonly\", \"pc_type\": \"lu\"})\n",
    "u_l = problem_l.solve()"
   ]
  },
  {
   "cell_type": "code",
   "execution_count": null,
   "id": "a165a23d-f690-4f02-9760-e2f8095e322a",
   "metadata": {},
   "outputs": [],
   "source": [
    "# Plot\n",
    "cells, types, x = dolfinx.plot.vtk_mesh(msh)\n",
    "grid = pv.UnstructuredGrid(cells, types, x)\n",
    "\n",
    "grid.point_data[\"u\"] = u.x.array.reshape(x.shape[0], msh.topology.dim)\n",
    "grid.point_data[\"u_l\"] = u_l.x.array.reshape(x.shape[0], msh.topology.dim)\n",
    "\n",
    "# Create a 'warped' version with the displacement magnified by a factor\n",
    "warped0 = grid.warp_by_vector(\"u\", factor=1.0)\n",
    "warped1 = grid.warp_by_vector(\"u_l\", factor=1.0)\n",
    "\n",
    "pl = pv.Plotter(notebook=True)\n",
    "pl.add_mesh(grid, color='grey', opacity=0.5, show_edges=True)\n",
    "pl.add_mesh(warped0, color='yellow', show_edges=True, opacity=0.25, label=\"Nonlinear\")\n",
    "pl.add_mesh(warped1, color='blue', show_edges=True, opacity=0.25, label=\"Linear\")\n",
    "pl.show(jupyter_backend=jupyter_backend)"
   ]
  },
  {
   "cell_type": "code",
   "execution_count": null,
   "id": "bfc6d247-52e5-4335-bb41-c12a9454b7c9",
   "metadata": {},
   "outputs": [],
   "source": []
  },
  {
   "cell_type": "code",
   "execution_count": null,
   "id": "405cf95b-1e2e-4cc6-bbfd-c56b50dec3b9",
   "metadata": {},
   "outputs": [],
   "source": []
  }
 ],
 "metadata": {
  "kernelspec": {
   "display_name": "Python 3 (ipykernel)",
   "language": "python",
   "name": "python3"
  },
  "language_info": {
   "codemirror_mode": {
    "name": "ipython",
    "version": 3
   },
   "file_extension": ".py",
   "mimetype": "text/x-python",
   "name": "python",
   "nbconvert_exporter": "python",
   "pygments_lexer": "ipython3",
   "version": "3.12.2"
  },
  "vscode": {
   "interpreter": {
    "hash": "31f2aee4e71d21fbe5cf8b01ff0e069b9275f58929596ceb00d14d90e3e16cd6"
   }
  }
 },
 "nbformat": 4,
 "nbformat_minor": 5
}
